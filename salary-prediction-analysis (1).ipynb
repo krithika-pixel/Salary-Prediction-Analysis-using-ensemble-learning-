{
 "cells": [
  {
   "cell_type": "code",
   "execution_count": 6,
   "id": "536a91f1-3625-4d81-b69d-5c76f9c9f3e5",
   "metadata": {},
   "outputs": [
    {
     "ename": "ModuleNotFoundError",
     "evalue": "No module named 'xgboost'",
     "output_type": "error",
     "traceback": [
      "\u001b[1;31m---------------------------------------------------------------------------\u001b[0m",
      "\u001b[1;31mModuleNotFoundError\u001b[0m                       Traceback (most recent call last)",
      "Cell \u001b[1;32mIn[6], line 8\u001b[0m\n\u001b[0;32m      6\u001b[0m \u001b[38;5;28;01mfrom\u001b[39;00m\u001b[38;5;250m \u001b[39m\u001b[38;5;21;01msklearn\u001b[39;00m\u001b[38;5;21;01m.\u001b[39;00m\u001b[38;5;21;01mlinear_model\u001b[39;00m\u001b[38;5;250m \u001b[39m\u001b[38;5;28;01mimport\u001b[39;00m LinearRegression\n\u001b[0;32m      7\u001b[0m \u001b[38;5;28;01mfrom\u001b[39;00m\u001b[38;5;250m \u001b[39m\u001b[38;5;21;01msklearn\u001b[39;00m\u001b[38;5;21;01m.\u001b[39;00m\u001b[38;5;21;01mtree\u001b[39;00m\u001b[38;5;250m \u001b[39m\u001b[38;5;28;01mimport\u001b[39;00m DecisionTreeRegressor\n\u001b[1;32m----> 8\u001b[0m \u001b[38;5;28;01mfrom\u001b[39;00m\u001b[38;5;250m \u001b[39m\u001b[38;5;21;01mxgboost\u001b[39;00m\u001b[38;5;250m \u001b[39m\u001b[38;5;28;01mimport\u001b[39;00m XGBRegressor                     \n\u001b[0;32m      9\u001b[0m \u001b[38;5;28;01mfrom\u001b[39;00m\u001b[38;5;250m \u001b[39m\u001b[38;5;21;01msklearn\u001b[39;00m\u001b[38;5;21;01m.\u001b[39;00m\u001b[38;5;21;01mcompose\u001b[39;00m\u001b[38;5;250m \u001b[39m\u001b[38;5;28;01mimport\u001b[39;00m ColumnTransformer        \n\u001b[0;32m     10\u001b[0m \u001b[38;5;28;01mfrom\u001b[39;00m\u001b[38;5;250m \u001b[39m\u001b[38;5;21;01msklearn\u001b[39;00m\u001b[38;5;21;01m.\u001b[39;00m\u001b[38;5;21;01mmodel_selection\u001b[39;00m\u001b[38;5;250m \u001b[39m\u001b[38;5;28;01mimport\u001b[39;00m train_test_split \n",
      "\u001b[1;31mModuleNotFoundError\u001b[0m: No module named 'xgboost'"
     ]
    }
   ],
   "source": [
    "import pandas as pd     \n",
    "import math as m\n",
    "from sklearn.preprocessing import LabelEncoder, StandardScaler\n",
    "from sklearn.pipeline import Pipeline                \n",
    "from sklearn.impute import SimpleImputer \n",
    "from sklearn.linear_model import LinearRegression\n",
    "from sklearn.tree import DecisionTreeRegressor\n",
    "from xgboost import XGBRegressor                     \n",
    "from sklearn.compose import ColumnTransformer        \n",
    "from sklearn.model_selection import train_test_split \n",
    "from sklearn.metrics import r2_score, mean_absolute_error, mean_squared_error          \n",
    "import numpy as np\n",
    "import matplotlib.pyplot as plt\n",
    "import seaborn as sns "
   ]
  },
  {
   "cell_type": "code",
   "execution_count": 7,
   "id": "060dbc14-8380-4227-85e2-cc323040abff",
   "metadata": {},
   "outputs": [
    {
     "data": {
      "text/html": [
       "<div>\n",
       "<style scoped>\n",
       "    .dataframe tbody tr th:only-of-type {\n",
       "        vertical-align: middle;\n",
       "    }\n",
       "\n",
       "    .dataframe tbody tr th {\n",
       "        vertical-align: top;\n",
       "    }\n",
       "\n",
       "    .dataframe thead th {\n",
       "        text-align: right;\n",
       "    }\n",
       "</style>\n",
       "<table border=\"1\" class=\"dataframe\">\n",
       "  <thead>\n",
       "    <tr style=\"text-align: right;\">\n",
       "      <th></th>\n",
       "      <th>Age</th>\n",
       "      <th>Gender</th>\n",
       "      <th>Education Level</th>\n",
       "      <th>Job Title</th>\n",
       "      <th>Years of Experience</th>\n",
       "      <th>Salary</th>\n",
       "    </tr>\n",
       "  </thead>\n",
       "  <tbody>\n",
       "    <tr>\n",
       "      <th>0</th>\n",
       "      <td>32.0</td>\n",
       "      <td>Male</td>\n",
       "      <td>Bachelor's</td>\n",
       "      <td>Software Engineer</td>\n",
       "      <td>5.0</td>\n",
       "      <td>90000.0</td>\n",
       "    </tr>\n",
       "    <tr>\n",
       "      <th>1</th>\n",
       "      <td>28.0</td>\n",
       "      <td>Female</td>\n",
       "      <td>Master's</td>\n",
       "      <td>Data Analyst</td>\n",
       "      <td>3.0</td>\n",
       "      <td>65000.0</td>\n",
       "    </tr>\n",
       "    <tr>\n",
       "      <th>2</th>\n",
       "      <td>45.0</td>\n",
       "      <td>Male</td>\n",
       "      <td>PhD</td>\n",
       "      <td>Senior Manager</td>\n",
       "      <td>15.0</td>\n",
       "      <td>150000.0</td>\n",
       "    </tr>\n",
       "    <tr>\n",
       "      <th>3</th>\n",
       "      <td>36.0</td>\n",
       "      <td>Female</td>\n",
       "      <td>Bachelor's</td>\n",
       "      <td>Sales Associate</td>\n",
       "      <td>7.0</td>\n",
       "      <td>60000.0</td>\n",
       "    </tr>\n",
       "    <tr>\n",
       "      <th>4</th>\n",
       "      <td>52.0</td>\n",
       "      <td>Male</td>\n",
       "      <td>Master's</td>\n",
       "      <td>Director</td>\n",
       "      <td>20.0</td>\n",
       "      <td>200000.0</td>\n",
       "    </tr>\n",
       "  </tbody>\n",
       "</table>\n",
       "</div>"
      ],
      "text/plain": [
       "    Age  Gender Education Level          Job Title  Years of Experience  \\\n",
       "0  32.0    Male      Bachelor's  Software Engineer                  5.0   \n",
       "1  28.0  Female        Master's       Data Analyst                  3.0   \n",
       "2  45.0    Male             PhD     Senior Manager                 15.0   \n",
       "3  36.0  Female      Bachelor's    Sales Associate                  7.0   \n",
       "4  52.0    Male        Master's           Director                 20.0   \n",
       "\n",
       "     Salary  \n",
       "0   90000.0  \n",
       "1   65000.0  \n",
       "2  150000.0  \n",
       "3   60000.0  \n",
       "4  200000.0  "
      ]
     },
     "execution_count": 7,
     "metadata": {},
     "output_type": "execute_result"
    }
   ],
   "source": [
    "df=pd.read_csv(r\"C:\\Users\\KRITH\\OneDrive\\Documents\\website\\AI project\\Salary Data.csv\")\n",
    "df.head()"
   ]
  },
  {
   "cell_type": "code",
   "execution_count": 8,
   "id": "5bbaccc7-b411-497e-a32e-0878b41b1c31",
   "metadata": {},
   "outputs": [
    {
     "name": "stdout",
     "output_type": "stream",
     "text": [
      "<class 'pandas.core.frame.DataFrame'>\n",
      "RangeIndex: 375 entries, 0 to 374\n",
      "Data columns (total 6 columns):\n",
      " #   Column               Non-Null Count  Dtype  \n",
      "---  ------               --------------  -----  \n",
      " 0   Age                  373 non-null    float64\n",
      " 1   Gender               373 non-null    object \n",
      " 2   Education Level      373 non-null    object \n",
      " 3   Job Title            373 non-null    object \n",
      " 4   Years of Experience  373 non-null    float64\n",
      " 5   Salary               373 non-null    float64\n",
      "dtypes: float64(3), object(3)\n",
      "memory usage: 17.7+ KB\n"
     ]
    }
   ],
   "source": [
    "df.info()"
   ]
  },
  {
   "cell_type": "code",
   "execution_count": 10,
   "id": "fe9b4442-8ece-4064-af70-b5962115617b",
   "metadata": {},
   "outputs": [],
   "source": [
    "values = df['Job Title'].value_counts().nlargest(15).values\n",
    "index = df['Job Title'].value_counts().nlargest(15).index\n",
    "\n"
   ]
  },
  {
   "cell_type": "code",
   "execution_count": 11,
   "id": "e17cc626-8ca7-4eb6-aa91-31934a01847c",
   "metadata": {},
   "outputs": [
    {
     "name": "stdout",
     "output_type": "stream",
     "text": [
      "[12 11 10  9  9  8  7  7  7  7  7  6  6  6  5]\n"
     ]
    }
   ],
   "source": [
    "print(values)"
   ]
  },
  {
   "cell_type": "code",
   "execution_count": 1,
   "id": "0ac6cb20-cd1e-4893-a47c-15a4112c3418",
   "metadata": {},
   "outputs": [
    {
     "ename": "NameError",
     "evalue": "name 'sns' is not defined",
     "output_type": "error",
     "traceback": [
      "\u001b[1;31m---------------------------------------------------------------------------\u001b[0m",
      "\u001b[1;31mNameError\u001b[0m                                 Traceback (most recent call last)",
      "Cell \u001b[1;32mIn[1], line 1\u001b[0m\n\u001b[1;32m----> 1\u001b[0m color \u001b[38;5;241m=\u001b[39m sns\u001b[38;5;241m.\u001b[39mcolor_palette(\u001b[38;5;124m'\u001b[39m\u001b[38;5;124mRdBu\u001b[39m\u001b[38;5;124m'\u001b[39m)\n\u001b[0;32m      2\u001b[0m plt\u001b[38;5;241m.\u001b[39mfigure(figsize\u001b[38;5;241m=\u001b[39m(\u001b[38;5;241m7\u001b[39m,\u001b[38;5;241m5\u001b[39m))\n\u001b[0;32m      4\u001b[0m plt\u001b[38;5;241m.\u001b[39mtitle(\u001b[38;5;124m'\u001b[39m\u001b[38;5;124mDistribution of Job Title\u001b[39m\u001b[38;5;124m'\u001b[39m)\n",
      "\u001b[1;31mNameError\u001b[0m: name 'sns' is not defined"
     ]
    }
   ],
   "source": [
    "color = sns.color_palette('RdBu')\n",
    "plt.figure(figsize=(7,5))\n",
    "\n",
    "plt.title('Distribution of Job Title')\n",
    "plt.pie(values, labels=index,autopct='%1.1f%%',colors=color)\n",
    "plt.show()"
   ]
  },
  {
   "cell_type": "code",
   "execution_count": 13,
   "id": "5cae5bda-519f-4aa1-ad73-bab82615aa69",
   "metadata": {},
   "outputs": [
    {
     "data": {
      "text/plain": [
       "Age                    2\n",
       "Gender                 2\n",
       "Education Level        2\n",
       "Job Title              2\n",
       "Years of Experience    2\n",
       "Salary                 2\n",
       "dtype: int64"
      ]
     },
     "execution_count": 13,
     "metadata": {},
     "output_type": "execute_result"
    }
   ],
   "source": [
    "df.isnull().sum()"
   ]
  },
  {
   "cell_type": "code",
   "execution_count": 14,
   "id": "cc992d2a-7209-4e11-b16e-e23c17d11623",
   "metadata": {},
   "outputs": [
    {
     "data": {
      "text/plain": [
       "np.int64(50)"
      ]
     },
     "execution_count": 14,
     "metadata": {},
     "output_type": "execute_result"
    }
   ],
   "source": [
    "df.duplicated().sum()"
   ]
  },
  {
   "cell_type": "code",
   "execution_count": 15,
   "id": "2882c138-38fd-4584-a41e-885a1d0118a0",
   "metadata": {},
   "outputs": [],
   "source": [
    "df.drop_duplicates(inplace = True)"
   ]
  },
  {
   "cell_type": "code",
   "execution_count": 16,
   "id": "1dabda2e-129e-4aee-b8a3-bde0000b658a",
   "metadata": {},
   "outputs": [
    {
     "name": "stdout",
     "output_type": "stream",
     "text": [
      "column  Male\n",
      "column  Bachelor's\n",
      "column  Director of Operations\n"
     ]
    },
    {
     "name": "stderr",
     "output_type": "stream",
     "text": [
      "C:\\Users\\KRITH\\AppData\\Local\\Temp\\ipykernel_21068\\3136764230.py:4: FutureWarning: A value is trying to be set on a copy of a DataFrame or Series through chained assignment using an inplace method.\n",
      "The behavior will change in pandas 3.0. This inplace method will never work because the intermediate object on which we are setting values always behaves as a copy.\n",
      "\n",
      "For example, when doing 'df[col].method(value, inplace=True)', try using 'df.method({col: value}, inplace=True)' or df[col] = df[col].method(value) instead, to perform the operation inplace on the original object.\n",
      "\n",
      "\n",
      "  df[column].fillna(df[column].mode()[0],inplace = True)\n"
     ]
    }
   ],
   "source": [
    "object_data = df.select_dtypes(include = 'object')\n",
    "for column in object_data.columns:\n",
    "    print('column ',df[column].mode()[0])\n",
    "    df[column].fillna(df[column].mode()[0],inplace = True)"
   ]
  },
  {
   "cell_type": "code",
   "execution_count": 17,
   "id": "3ecb172c-44bf-4228-988b-81570ca49685",
   "metadata": {},
   "outputs": [
    {
     "name": "stdout",
     "output_type": "stream",
     "text": [
      "Age 37.382716049382715 36.5\n",
      "Years of Experience 10.058641975308642 9.0\n",
      "Salary 99985.64814814815 95000.0\n"
     ]
    }
   ],
   "source": [
    "numeric_data = df.select_dtypes(exclude = 'object')\n",
    "for column in numeric_data.columns:\n",
    "    print(column,df[column].mean(),df[column].median())\n",
    "    df[column] = df[column].fillna(df[column].median())"
   ]
  },
  {
   "cell_type": "code",
   "execution_count": 18,
   "id": "f9ec5ba2-3ec6-4a07-a2d9-e3a61d84b0f4",
   "metadata": {},
   "outputs": [
    {
     "name": "stdout",
     "output_type": "stream",
     "text": [
      "['Female' 'Male']\n",
      "[\"Bachelor's\" \"Master's\" 'PhD']\n",
      "['Account Manager' 'Accountant' 'Administrative Assistant'\n",
      " 'Business Analyst' 'Business Development Manager'\n",
      " 'Business Intelligence Analyst' 'CEO' 'Chief Data Officer'\n",
      " 'Chief Technology Officer' 'Content Marketing Manager' 'Copywriter'\n",
      " 'Creative Director' 'Customer Service Manager' 'Customer Service Rep'\n",
      " 'Customer Service Representative' 'Customer Success Manager'\n",
      " 'Customer Success Rep' 'Data Analyst' 'Data Entry Clerk' 'Data Scientist'\n",
      " 'Digital Content Producer' 'Digital Marketing Manager' 'Director'\n",
      " 'Director of Business Development' 'Director of Engineering'\n",
      " 'Director of Finance' 'Director of HR' 'Director of Human Capital'\n",
      " 'Director of Human Resources' 'Director of Marketing'\n",
      " 'Director of Operations' 'Director of Product Management'\n",
      " 'Director of Sales' 'Director of Sales and Marketing' 'Event Coordinator'\n",
      " 'Financial Advisor' 'Financial Analyst' 'Financial Manager'\n",
      " 'Graphic Designer' 'HR Generalist' 'HR Manager' 'Help Desk Analyst'\n",
      " 'Human Resources Director' 'IT Manager' 'IT Support'\n",
      " 'IT Support Specialist' 'Junior Account Manager' 'Junior Accountant'\n",
      " 'Junior Advertising Coordinator' 'Junior Business Analyst'\n",
      " 'Junior Business Development Associate'\n",
      " 'Junior Business Operations Analyst' 'Junior Copywriter'\n",
      " 'Junior Customer Support Specialist' 'Junior Data Analyst'\n",
      " 'Junior Data Scientist' 'Junior Designer' 'Junior Developer'\n",
      " 'Junior Financial Advisor' 'Junior Financial Analyst'\n",
      " 'Junior HR Coordinator' 'Junior HR Generalist' 'Junior Marketing Analyst'\n",
      " 'Junior Marketing Coordinator' 'Junior Marketing Manager'\n",
      " 'Junior Marketing Specialist' 'Junior Operations Analyst'\n",
      " 'Junior Operations Coordinator' 'Junior Operations Manager'\n",
      " 'Junior Product Manager' 'Junior Project Manager' 'Junior Recruiter'\n",
      " 'Junior Research Scientist' 'Junior Sales Representative'\n",
      " 'Junior Social Media Manager' 'Junior Social Media Specialist'\n",
      " 'Junior Software Developer' 'Junior Software Engineer'\n",
      " 'Junior UX Designer' 'Junior Web Designer' 'Junior Web Developer'\n",
      " 'Marketing Analyst' 'Marketing Coordinator' 'Marketing Manager'\n",
      " 'Marketing Specialist' 'Network Engineer' 'Office Manager'\n",
      " 'Operations Analyst' 'Operations Director' 'Operations Manager'\n",
      " 'Principal Engineer' 'Principal Scientist' 'Product Designer'\n",
      " 'Product Manager' 'Product Marketing Manager' 'Project Engineer'\n",
      " 'Project Manager' 'Public Relations Manager' 'Recruiter'\n",
      " 'Research Director' 'Research Scientist' 'Sales Associate'\n",
      " 'Sales Director' 'Sales Executive' 'Sales Manager'\n",
      " 'Sales Operations Manager' 'Sales Representative'\n",
      " 'Senior Account Executive' 'Senior Account Manager' 'Senior Accountant'\n",
      " 'Senior Business Analyst' 'Senior Business Development Manager'\n",
      " 'Senior Consultant' 'Senior Data Analyst' 'Senior Data Engineer'\n",
      " 'Senior Data Scientist' 'Senior Engineer' 'Senior Financial Advisor'\n",
      " 'Senior Financial Analyst' 'Senior Financial Manager'\n",
      " 'Senior Graphic Designer' 'Senior HR Generalist' 'Senior HR Manager'\n",
      " 'Senior HR Specialist' 'Senior Human Resources Coordinator'\n",
      " 'Senior Human Resources Manager' 'Senior Human Resources Specialist'\n",
      " 'Senior IT Consultant' 'Senior IT Project Manager'\n",
      " 'Senior IT Support Specialist' 'Senior Manager'\n",
      " 'Senior Marketing Analyst' 'Senior Marketing Coordinator'\n",
      " 'Senior Marketing Director' 'Senior Marketing Manager'\n",
      " 'Senior Marketing Specialist' 'Senior Operations Analyst'\n",
      " 'Senior Operations Coordinator' 'Senior Operations Manager'\n",
      " 'Senior Product Designer' 'Senior Product Development Manager'\n",
      " 'Senior Product Manager' 'Senior Product Marketing Manager'\n",
      " 'Senior Project Coordinator' 'Senior Project Manager'\n",
      " 'Senior Quality Assurance Analyst' 'Senior Research Scientist'\n",
      " 'Senior Researcher' 'Senior Sales Manager' 'Senior Sales Representative'\n",
      " 'Senior Scientist' 'Senior Software Architect'\n",
      " 'Senior Software Developer' 'Senior Software Engineer'\n",
      " 'Senior Training Specialist' 'Senior UX Designer' 'Social Media Manager'\n",
      " 'Social Media Specialist' 'Software Developer' 'Software Engineer'\n",
      " 'Software Manager' 'Software Project Manager' 'Strategy Consultant'\n",
      " 'Supply Chain Analyst' 'Supply Chain Manager' 'Technical Recruiter'\n",
      " 'Technical Support Specialist' 'Technical Writer' 'Training Specialist'\n",
      " 'UX Designer' 'UX Researcher' 'VP of Finance' 'VP of Operations'\n",
      " 'Web Developer']\n"
     ]
    }
   ],
   "source": [
    "for column in object_data.columns:\n",
    "    le = LabelEncoder()\n",
    "    df[column] = le.fit_transform(df[column])\n",
    "    print(le.classes_)"
   ]
  },
  {
   "cell_type": "code",
   "execution_count": 19,
   "id": "8e1cc837-6b91-4b78-97cd-213f01a64db0",
   "metadata": {},
   "outputs": [
    {
     "data": {
      "text/html": [
       "<div>\n",
       "<style scoped>\n",
       "    .dataframe tbody tr th:only-of-type {\n",
       "        vertical-align: middle;\n",
       "    }\n",
       "\n",
       "    .dataframe tbody tr th {\n",
       "        vertical-align: top;\n",
       "    }\n",
       "\n",
       "    .dataframe thead th {\n",
       "        text-align: right;\n",
       "    }\n",
       "</style>\n",
       "<table border=\"1\" class=\"dataframe\">\n",
       "  <thead>\n",
       "    <tr style=\"text-align: right;\">\n",
       "      <th></th>\n",
       "      <th>Age</th>\n",
       "      <th>Gender</th>\n",
       "      <th>Education Level</th>\n",
       "      <th>Job Title</th>\n",
       "      <th>Years of Experience</th>\n",
       "      <th>Salary</th>\n",
       "    </tr>\n",
       "  </thead>\n",
       "  <tbody>\n",
       "    <tr>\n",
       "      <th>Age</th>\n",
       "      <td>1.000000</td>\n",
       "      <td>-0.025358</td>\n",
       "      <td>0.540180</td>\n",
       "      <td>0.118804</td>\n",
       "      <td>0.979191</td>\n",
       "      <td>0.916545</td>\n",
       "    </tr>\n",
       "    <tr>\n",
       "      <th>Gender</th>\n",
       "      <td>-0.025358</td>\n",
       "      <td>1.000000</td>\n",
       "      <td>-0.026629</td>\n",
       "      <td>0.035267</td>\n",
       "      <td>-0.001832</td>\n",
       "      <td>0.075013</td>\n",
       "    </tr>\n",
       "    <tr>\n",
       "      <th>Education Level</th>\n",
       "      <td>0.540180</td>\n",
       "      <td>-0.026629</td>\n",
       "      <td>1.000000</td>\n",
       "      <td>0.116060</td>\n",
       "      <td>0.573754</td>\n",
       "      <td>0.661544</td>\n",
       "    </tr>\n",
       "    <tr>\n",
       "      <th>Job Title</th>\n",
       "      <td>0.118804</td>\n",
       "      <td>0.035267</td>\n",
       "      <td>0.116060</td>\n",
       "      <td>1.000000</td>\n",
       "      <td>0.105868</td>\n",
       "      <td>0.136005</td>\n",
       "    </tr>\n",
       "    <tr>\n",
       "      <th>Years of Experience</th>\n",
       "      <td>0.979191</td>\n",
       "      <td>-0.001832</td>\n",
       "      <td>0.573754</td>\n",
       "      <td>0.105868</td>\n",
       "      <td>1.000000</td>\n",
       "      <td>0.924454</td>\n",
       "    </tr>\n",
       "    <tr>\n",
       "      <th>Salary</th>\n",
       "      <td>0.916545</td>\n",
       "      <td>0.075013</td>\n",
       "      <td>0.661544</td>\n",
       "      <td>0.136005</td>\n",
       "      <td>0.924454</td>\n",
       "      <td>1.000000</td>\n",
       "    </tr>\n",
       "  </tbody>\n",
       "</table>\n",
       "</div>"
      ],
      "text/plain": [
       "                          Age    Gender  Education Level  Job Title  \\\n",
       "Age                  1.000000 -0.025358         0.540180   0.118804   \n",
       "Gender              -0.025358  1.000000        -0.026629   0.035267   \n",
       "Education Level      0.540180 -0.026629         1.000000   0.116060   \n",
       "Job Title            0.118804  0.035267         0.116060   1.000000   \n",
       "Years of Experience  0.979191 -0.001832         0.573754   0.105868   \n",
       "Salary               0.916545  0.075013         0.661544   0.136005   \n",
       "\n",
       "                     Years of Experience    Salary  \n",
       "Age                             0.979191  0.916545  \n",
       "Gender                         -0.001832  0.075013  \n",
       "Education Level                 0.573754  0.661544  \n",
       "Job Title                       0.105868  0.136005  \n",
       "Years of Experience             1.000000  0.924454  \n",
       "Salary                          0.924454  1.000000  "
      ]
     },
     "execution_count": 19,
     "metadata": {},
     "output_type": "execute_result"
    }
   ],
   "source": [
    "df.corr()"
   ]
  },
  {
   "cell_type": "code",
   "execution_count": 20,
   "id": "5da3c8cd-d574-4ad0-9b09-91fd1595fafd",
   "metadata": {},
   "outputs": [
    {
     "ename": "NameError",
     "evalue": "name 'plt' is not defined",
     "output_type": "error",
     "traceback": [
      "\u001b[1;31m---------------------------------------------------------------------------\u001b[0m",
      "\u001b[1;31mNameError\u001b[0m                                 Traceback (most recent call last)",
      "Cell \u001b[1;32mIn[20], line 1\u001b[0m\n\u001b[1;32m----> 1\u001b[0m plt\u001b[38;5;241m.\u001b[39mfigure(figsize\u001b[38;5;241m=\u001b[39m(\u001b[38;5;241m9\u001b[39m,\u001b[38;5;241m9\u001b[39m))\n\u001b[0;32m      2\u001b[0m correlation \u001b[38;5;241m=\u001b[39m df\u001b[38;5;241m.\u001b[39mcorr()\n\u001b[0;32m      3\u001b[0m sns\u001b[38;5;241m.\u001b[39mheatmap(correlation, annot\u001b[38;5;241m=\u001b[39m\u001b[38;5;28;01mTrue\u001b[39;00m)\n",
      "\u001b[1;31mNameError\u001b[0m: name 'plt' is not defined"
     ]
    }
   ],
   "source": [
    "plt.figure(figsize=(9,9))\n",
    "correlation = df.corr()\n",
    "sns.heatmap(correlation, annot=True)\n",
    "plt.title(\"Correlation with Salary\")\n",
    "plt.show()"
   ]
  },
  {
   "cell_type": "code",
   "execution_count": 21,
   "id": "adf9ccc2-a88a-48a2-9480-361ab4159026",
   "metadata": {},
   "outputs": [
    {
     "ename": "NameError",
     "evalue": "name 'plt' is not defined",
     "output_type": "error",
     "traceback": [
      "\u001b[1;31m---------------------------------------------------------------------------\u001b[0m",
      "\u001b[1;31mNameError\u001b[0m                                 Traceback (most recent call last)",
      "Cell \u001b[1;32mIn[21], line 1\u001b[0m\n\u001b[1;32m----> 1\u001b[0m plt\u001b[38;5;241m.\u001b[39mfigure(figsize\u001b[38;5;241m=\u001b[39m(\u001b[38;5;241m8\u001b[39m,\u001b[38;5;241m8\u001b[39m))\n\u001b[0;32m      2\u001b[0m correlation \u001b[38;5;241m=\u001b[39m df\u001b[38;5;241m.\u001b[39mcorr()\n\u001b[0;32m      3\u001b[0m sns\u001b[38;5;241m.\u001b[39mheatmap(correlation[[\u001b[38;5;124m'\u001b[39m\u001b[38;5;124mSalary\u001b[39m\u001b[38;5;124m'\u001b[39m]]\u001b[38;5;241m.\u001b[39msort_values(by\u001b[38;5;241m=\u001b[39m\u001b[38;5;124m'\u001b[39m\u001b[38;5;124mSalary\u001b[39m\u001b[38;5;124m'\u001b[39m, ascending\u001b[38;5;241m=\u001b[39m\u001b[38;5;28;01mFalse\u001b[39;00m), annot\u001b[38;5;241m=\u001b[39m\u001b[38;5;28;01mTrue\u001b[39;00m)\n",
      "\u001b[1;31mNameError\u001b[0m: name 'plt' is not defined"
     ]
    }
   ],
   "source": [
    "plt.figure(figsize=(8,8))\n",
    "correlation = df.corr()\n",
    "sns.heatmap(correlation[['Salary']].sort_values(by='Salary', ascending=False), annot=True)\n",
    "plt.title(\"Correlation with Salary\")\n",
    "plt.show()"
   ]
  },
  {
   "cell_type": "code",
   "execution_count": 26,
   "id": "218ef6f7-33c0-4ab7-83fb-e404169c6d09",
   "metadata": {},
   "outputs": [],
   "source": [
    "x =df.drop('Salary',axis = 1)\n",
    "y = df['Salary']"
   ]
  },
  {
   "cell_type": "code",
   "execution_count": 27,
   "id": "1172190d-104d-4366-870e-bb3e6de403c4",
   "metadata": {},
   "outputs": [
    {
     "ename": "NameError",
     "evalue": "name 'train_test_split' is not defined",
     "output_type": "error",
     "traceback": [
      "\u001b[1;31m---------------------------------------------------------------------------\u001b[0m",
      "\u001b[1;31mNameError\u001b[0m                                 Traceback (most recent call last)",
      "Cell \u001b[1;32mIn[27], line 1\u001b[0m\n\u001b[1;32m----> 1\u001b[0m x_train, x_test, y_train, y_test \u001b[38;5;241m=\u001b[39m train_test_split(x, y, test_size\u001b[38;5;241m=\u001b[39m\u001b[38;5;241m0.2\u001b[39m, random_state\u001b[38;5;241m=\u001b[39m\u001b[38;5;241m42\u001b[39m)\n",
      "\u001b[1;31mNameError\u001b[0m: name 'train_test_split' is not defined"
     ]
    }
   ],
   "source": [
    "x_train, x_test, y_train, y_test = train_test_split(x, y, test_size=0.2, random_state=42)"
   ]
  },
  {
   "cell_type": "code",
   "execution_count": 28,
   "id": "63abdbd8-e569-47a2-8ea4-6700062010b4",
   "metadata": {},
   "outputs": [
    {
     "ename": "NameError",
     "evalue": "name 'x_train' is not defined",
     "output_type": "error",
     "traceback": [
      "\u001b[1;31m---------------------------------------------------------------------------\u001b[0m",
      "\u001b[1;31mNameError\u001b[0m                                 Traceback (most recent call last)",
      "Cell \u001b[1;32mIn[28], line 1\u001b[0m\n\u001b[1;32m----> 1\u001b[0m x_train\n",
      "\u001b[1;31mNameError\u001b[0m: name 'x_train' is not defined"
     ]
    }
   ],
   "source": [
    "x_train"
   ]
  },
  {
   "cell_type": "code",
   "execution_count": null,
   "id": "c735fab0-b994-4662-ae91-a8b3c32d3749",
   "metadata": {},
   "outputs": [],
   "source": []
  }
 ],
 "metadata": {
  "kernelspec": {
   "display_name": "Python [conda env:base] *",
   "language": "python",
   "name": "conda-base-py"
  },
  "language_info": {
   "codemirror_mode": {
    "name": "ipython",
    "version": 3
   },
   "file_extension": ".py",
   "mimetype": "text/x-python",
   "name": "python",
   "nbconvert_exporter": "python",
   "pygments_lexer": "ipython3",
   "version": "3.13.5"
  }
 },
 "nbformat": 4,
 "nbformat_minor": 5
}
